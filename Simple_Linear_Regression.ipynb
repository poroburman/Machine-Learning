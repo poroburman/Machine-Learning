{
 "cells": [
  {
   "cell_type": "code",
   "execution_count": 1,
   "metadata": {},
   "outputs": [],
   "source": [
    "# This script is meant to use Linear Regression model\n",
    "\n",
    "# The dataset consists of 30 rows and 2 columns; where each row comprises of an employee\n",
    "# and the 2 columns comprise of Years of Experience and Salary of each employee.\n",
    "\n",
    "# The goal of this script is too use a Simple Linear Regression model to check and see if the\n",
    "# independent variable (Years of Experience) for each employee can be used to predict the dependent variable (Salary)"
   ]
  },
  {
   "cell_type": "code",
   "execution_count": null,
   "metadata": {},
   "outputs": [],
   "source": [
    "# 1. Set the working directory, import the libraries and the dataset"
   ]
  },
  {
   "cell_type": "code",
   "execution_count": 4,
   "metadata": {},
   "outputs": [
    {
     "data": {
      "text/html": [
       "<div>\n",
       "<style scoped>\n",
       "    .dataframe tbody tr th:only-of-type {\n",
       "        vertical-align: middle;\n",
       "    }\n",
       "\n",
       "    .dataframe tbody tr th {\n",
       "        vertical-align: top;\n",
       "    }\n",
       "\n",
       "    .dataframe thead th {\n",
       "        text-align: right;\n",
       "    }\n",
       "</style>\n",
       "<table border=\"1\" class=\"dataframe\">\n",
       "  <thead>\n",
       "    <tr style=\"text-align: right;\">\n",
       "      <th></th>\n",
       "      <th>YearsExperience</th>\n",
       "      <th>Salary</th>\n",
       "    </tr>\n",
       "  </thead>\n",
       "  <tbody>\n",
       "    <tr>\n",
       "      <th>0</th>\n",
       "      <td>1.1</td>\n",
       "      <td>39343.0</td>\n",
       "    </tr>\n",
       "    <tr>\n",
       "      <th>1</th>\n",
       "      <td>1.3</td>\n",
       "      <td>46205.0</td>\n",
       "    </tr>\n",
       "    <tr>\n",
       "      <th>2</th>\n",
       "      <td>1.5</td>\n",
       "      <td>37731.0</td>\n",
       "    </tr>\n",
       "    <tr>\n",
       "      <th>3</th>\n",
       "      <td>2.0</td>\n",
       "      <td>43525.0</td>\n",
       "    </tr>\n",
       "    <tr>\n",
       "      <th>4</th>\n",
       "      <td>2.2</td>\n",
       "      <td>39891.0</td>\n",
       "    </tr>\n",
       "  </tbody>\n",
       "</table>\n",
       "</div>"
      ],
      "text/plain": [
       "   YearsExperience   Salary\n",
       "0              1.1  39343.0\n",
       "1              1.3  46205.0\n",
       "2              1.5  37731.0\n",
       "3              2.0  43525.0\n",
       "4              2.2  39891.0"
      ]
     },
     "execution_count": 4,
     "metadata": {},
     "output_type": "execute_result"
    }
   ],
   "source": [
    "# import the libraries\n",
    "import os\n",
    "import numpy as np\n",
    "import pandas as pd\n",
    "import matplotlib.pyplot as plt\n",
    "\n",
    "# set the working directory\n",
    "os.getcwd()\n",
    "os.chdir('/Users/poromendro/Desktop/')\n",
    "\n",
    "# import the dataset\n",
    "dataset = pd.read_csv('Salary_data.csv')\n",
    "\n",
    "# view the dataset\n",
    "dataset.head()"
   ]
  },
  {
   "cell_type": "code",
   "execution_count": 5,
   "metadata": {},
   "outputs": [],
   "source": [
    "# 2. Set the independent and dependent variables"
   ]
  },
  {
   "cell_type": "code",
   "execution_count": 20,
   "metadata": {},
   "outputs": [],
   "source": [
    "# independent variable\n",
    "# select 'YearsExperience' as the independent variable\n",
    "X = dataset.iloc[:, :-1].values\n",
    "\n",
    "# dependent variable\n",
    "# select 'Salary' as dependent variable\n",
    "Y = dataset.iloc[:, -1].values"
   ]
  },
  {
   "cell_type": "code",
   "execution_count": 13,
   "metadata": {},
   "outputs": [],
   "source": [
    "# 3. Split the dataset into training and test set"
   ]
  },
  {
   "cell_type": "code",
   "execution_count": 21,
   "metadata": {},
   "outputs": [],
   "source": [
    "# import 'train_test_split' class from 'model_selection' module of sklearn\n",
    "from sklearn.model_selection import train_test_split\n",
    "\n",
    "# split the dataset where 80% is used for training and 20% is used for testing\n",
    "# random_state = 1 for getting reproducible results\n",
    "X_train, X_test, Y_train, Y_test = train_test_split(X, Y, test_size = 0.2, random_state = 1)"
   ]
  },
  {
   "cell_type": "code",
   "execution_count": 22,
   "metadata": {},
   "outputs": [
    {
     "name": "stdout",
     "output_type": "stream",
     "text": [
      "[[ 9.5]\n",
      " [ 2. ]\n",
      " [ 8.7]\n",
      " [ 7.9]\n",
      " [ 8.2]\n",
      " [ 2.2]\n",
      " [ 1.5]\n",
      " [ 9. ]\n",
      " [ 3. ]\n",
      " [ 5.9]\n",
      " [ 4.1]\n",
      " [ 3.2]\n",
      " [ 9.6]\n",
      " [ 1.3]\n",
      " [ 5.1]\n",
      " [ 1.1]\n",
      " [ 4.9]\n",
      " [10.5]\n",
      " [10.3]\n",
      " [ 3.7]\n",
      " [ 3.2]\n",
      " [ 4. ]\n",
      " [ 4. ]\n",
      " [ 2.9]]\n"
     ]
    }
   ],
   "source": [
    "print(X_train)"
   ]
  },
  {
   "cell_type": "code",
   "execution_count": 23,
   "metadata": {},
   "outputs": [
    {
     "name": "stdout",
     "output_type": "stream",
     "text": [
      "[[5.3]\n",
      " [7.1]\n",
      " [3.9]\n",
      " [6. ]\n",
      " [4.5]\n",
      " [6.8]]\n"
     ]
    }
   ],
   "source": [
    "print(X_test)"
   ]
  },
  {
   "cell_type": "code",
   "execution_count": 24,
   "metadata": {},
   "outputs": [
    {
     "name": "stdout",
     "output_type": "stream",
     "text": [
      "[116969.  43525. 109431. 101302. 113812.  39891.  37731. 105582.  60150.\n",
      "  81363.  57081.  54445. 112635.  46205.  66029.  39343.  67938. 121872.\n",
      " 122391.  57189.  64445.  56957.  55794.  56642.]\n"
     ]
    }
   ],
   "source": [
    "print(Y_train)"
   ]
  },
  {
   "cell_type": "code",
   "execution_count": 25,
   "metadata": {},
   "outputs": [
    {
     "name": "stdout",
     "output_type": "stream",
     "text": [
      "[83088. 98273. 63218. 93940. 61111. 91738.]\n"
     ]
    }
   ],
   "source": [
    "print(Y_test)"
   ]
  },
  {
   "cell_type": "code",
   "execution_count": 26,
   "metadata": {},
   "outputs": [
    {
     "data": {
      "text/plain": [
       "LinearRegression()"
      ]
     },
     "execution_count": 26,
     "metadata": {},
     "output_type": "execute_result"
    }
   ],
   "source": [
    "# 4. Build Simple Linear Regression model\n",
    "\n",
    "# import the LinearRegression class from the linear_model module of sklearn library\n",
    "from sklearn.linear_model import LinearRegression\n",
    "\n",
    "# set the Linear Regression model\n",
    "regressor = LinearRegression()\n",
    "\n",
    "# train the Linear regression model on the dataset\n",
    "regressor.fit(X_train, Y_train)"
   ]
  },
  {
   "cell_type": "code",
   "execution_count": 27,
   "metadata": {},
   "outputs": [],
   "source": [
    "# 5. Predict the test set results"
   ]
  },
  {
   "cell_type": "code",
   "execution_count": 34,
   "metadata": {},
   "outputs": [],
   "source": [
    "y_pred = regressor.predict(X_test)"
   ]
  },
  {
   "cell_type": "code",
   "execution_count": 28,
   "metadata": {},
   "outputs": [],
   "source": [
    "# 6. Visualize the training set results"
   ]
  },
  {
   "cell_type": "code",
   "execution_count": 29,
   "metadata": {},
   "outputs": [
    {
     "data": {
      "image/png": "[encoded data removed]",
      "text/plain": [
       "<Figure size 432x288 with 1 Axes>"
      ]
     },
     "metadata": {
      "needs_background": "light"
     },
     "output_type": "display_data"
    }
   ],
   "source": [
    "# plot the training data\n",
    "plt.scatter(X_train, Y_train, color = 'red')\n",
    "\n",
    "# plot the linear regression line\n",
    "plt.plot(X_train, regressor.predict(X_train), color = 'blue')\n",
    "\n",
    "# give a title to the plot\n",
    "plt.title('Salary vs Experience (Training set)')\n",
    "\n",
    "# label the x axis\n",
    "plt.xlabel('Years of Experience')\n",
    "\n",
    "# label the y axis\n",
    "plt.ylabel('Salary')\n",
    "\n",
    "# show the plot\n",
    "plt.show()"
   ]
  },
  {
   "cell_type": "code",
   "execution_count": 30,
   "metadata": {},
   "outputs": [],
   "source": [
    "# 7. Visualize the testing set results"
   ]
  },
  {
   "cell_type": "code",
   "execution_count": 31,
   "metadata": {},
   "outputs": [
    {
     "data": {
      "image/png": "[encoded data removed]",
      "text/plain": [
       "<Figure size 432x288 with 1 Axes>"
      ]
     },
     "metadata": {
      "needs_background": "light"
     },
     "output_type": "display_data"
    }
   ],
   "source": [
    "# plot the training data\n",
    "plt.scatter(X_test, Y_test, color = 'red')\n",
    "\n",
    "# plot the linear regression line\n",
    "plt.plot(X_train, regressor.predict(X_train), color = 'blue')\n",
    "\n",
    "# give a title to the plot\n",
    "plt.title('Salary vs Experience (Test set)')\n",
    "\n",
    "# label the x axis\n",
    "plt.xlabel('Years of Experience')\n",
    "\n",
    "# label the y axis\n",
    "plt.ylabel('Salary')\n",
    "\n",
    "# show the plot\n",
    "plt.show()"
   ]
  },
  {
   "cell_type": "code",
   "execution_count": null,
   "metadata": {},
   "outputs": [],
   "source": [
    "# the second graph shows that the linear regressioon model predicts accurately the salary\n",
    "# of the eomployees, based upon their experience"
   ]
  },
  {
   "cell_type": "code",
   "execution_count": 37,
   "metadata": {},
   "outputs": [
    {
     "name": "stdout",
     "output_type": "stream",
     "text": [
      "[137605.23485427]\n"
     ]
    }
   ],
   "source": [
    "# This model can further be used to predict the salary of a single eomployee based upon his experience.\n",
    "# the folloowing predicts the salary of an employee with 12 years of experience\n",
    "print(regressor.predict([[12]]))"
   ]
  }
 ],
 "metadata": {
  "kernelspec": {
   "display_name": "Python 3",
   "language": "python",
   "name": "python3"
  },
  "language_info": {
   "codemirror_mode": {
    "name": "ipython",
    "version": 3
   },
   "file_extension": ".py",
   "mimetype": "text/x-python",
   "name": "python",
   "nbconvert_exporter": "python",
   "pygments_lexer": "ipython3",
   "version": "3.8.3"
  }
 },
 "nbformat": 4,
 "nbformat_minor": 4
}
