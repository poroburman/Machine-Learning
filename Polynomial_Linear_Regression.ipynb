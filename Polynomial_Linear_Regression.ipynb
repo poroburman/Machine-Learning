{
 "cells": [
  {
   "cell_type": "code",
   "execution_count": 1,
   "metadata": {},
   "outputs": [],
   "source": [
    "# this script is meant to verify the salary of a potential employee in his/ her previous company. We\n",
    "# will use support vector regression model to learn from the position salary dataset of the potential\n",
    "# employee's previous company and predict whether the potential employee earned 160k salary as a regional\n",
    "# manager"
   ]
  },
  {
   "cell_type": "code",
   "execution_count": 2,
   "metadata": {},
   "outputs": [],
   "source": [
    "# 1. Import the library and the dataset"
   ]
  },
  {
   "cell_type": "code",
   "execution_count": 4,
   "metadata": {},
   "outputs": [],
   "source": [
    "# import the libraries\n",
    "import numpy as np\n",
    "import pandas as pd\n",
    "import matplotlib.pyplot as plt\n",
    "\n",
    "# import the dataset\n",
    "dataset = pd.read_csv('Position_Salaries.csv')\n",
    "\n",
    "# set the independent variable\n",
    "X = dataset.iloc[:, 1:-1].values\n",
    "\n",
    "# set the dependent variable\n",
    "Y = dataset.iloc[:, -1].values"
   ]
  },
  {
   "cell_type": "code",
   "execution_count": 5,
   "metadata": {},
   "outputs": [],
   "source": [
    "# 2. Train the Polynomial Linear Regression model "
   ]
  },
  {
   "cell_type": "code",
   "execution_count": 10,
   "metadata": {},
   "outputs": [
    {
     "data": {
      "text/plain": [
       "LinearRegression()"
      ]
     },
     "execution_count": 10,
     "metadata": {},
     "output_type": "execute_result"
    }
   ],
   "source": [
    "# import the PolynomialFeatures class from the preprocessing module of the sklearn library\n",
    "from sklearn.preprocessing import PolynomialFeatures\n",
    "\n",
    "# set the Polynomialfeatures instance\n",
    "poly_reg = PolynomialFeatures(degree = 4)\n",
    "                              \n",
    "# train the instance on the independent variable\n",
    "X_poly = poly_reg.fit_transform(X)\n",
    "\n",
    "# import LinearRegression class from linear_model module of sklearn library\n",
    "from sklearn.linear_model import LinearRegression\n",
    "\n",
    "# create linear regression instance\n",
    "lin_reg_2 = LinearRegression()\n",
    "\n",
    "# fit the linear regression instance \n",
    "lin_reg_2.fit(X_poly, Y)"
   ]
  },
  {
   "cell_type": "code",
   "execution_count": 7,
   "metadata": {},
   "outputs": [],
   "source": [
    "# 3. visualizing "
   ]
  },
  {
   "cell_type": "code",
   "execution_count": 11,
   "metadata": {},
   "outputs": [
    {
     "data": {
      "image/png": "[encoded data removed]",
      "text/plain": [
       "<Figure size 432x288 with 1 Axes>"
      ]
     },
     "metadata": {
      "needs_background": "light"
     },
     "output_type": "display_data"
    }
   ],
   "source": [
    "# create a scatter plot with X and Y with the data points labelled as red\n",
    "plt.scatter(X, Y, color = 'red')\n",
    "\n",
    "# plot the polynomial regression model\n",
    "plt.plot(X, lin_reg_2.predict(poly_reg.fit_transform(X)), color = 'blue')\n",
    "\n",
    "# add the title \n",
    "plt.title('Truth or Bluff (Polynomial Regression)')\n",
    "\n",
    "# add x and y labels\n",
    "plt.xlabel('Position level')\n",
    "plt.ylabel('Salary')\n",
    "\n",
    "# show the plot\n",
    "plt.show()"
   ]
  },
  {
   "cell_type": "code",
   "execution_count": 12,
   "metadata": {},
   "outputs": [],
   "source": [
    "# 4. predict result"
   ]
  },
  {
   "cell_type": "code",
   "execution_count": 13,
   "metadata": {},
   "outputs": [
    {
     "data": {
      "text/plain": [
       "array([158862.45265153])"
      ]
     },
     "execution_count": 13,
     "metadata": {},
     "output_type": "execute_result"
    }
   ],
   "source": [
    "lin_reg_2.predict(poly_reg.fit_transform([[6.5]]))"
   ]
  },
  {
   "cell_type": "code",
   "execution_count": null,
   "metadata": {},
   "outputs": [],
   "source": [
    "# 5. Result\n",
    "\n",
    "# As you can see, the predicted salary for position level 6.5 is 158k, which is close to the actual salary of 160k"
   ]
  }
 ],
 "metadata": {
  "kernelspec": {
   "display_name": "Python 3",
   "language": "python",
   "name": "python3"
  },
  "language_info": {
   "codemirror_mode": {
    "name": "ipython",
    "version": 3
   },
   "file_extension": ".py",
   "mimetype": "text/x-python",
   "name": "python",
   "nbconvert_exporter": "python",
   "pygments_lexer": "ipython3",
   "version": "3.8.3"
  }
 },
 "nbformat": 4,
 "nbformat_minor": 4
}
